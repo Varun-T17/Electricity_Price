{
 "cells": [
  {
   "cell_type": "code",
   "execution_count": 73,
   "metadata": {},
   "outputs": [],
   "source": [
    "import pandas as pd\n",
    "from sklearn.model_selection import train_test_split\n",
    "from sklearn.preprocessing import StandardScaler\n",
    "\n",
    "# Load your training data\n",
    "X_train = pd.read_csv('TrainingData_without_NaNs_No_ID.csv')\n",
    "Y_train = pd.read_csv('Y_train_No_ID.csv')\n",
    "\n",
    "# Define a custom function to map values to 1 or 0\n",
    "def country_to_binary(country):\n",
    "    if country == 'FR':\n",
    "        return 1\n",
    "    elif country == 'DE':\n",
    "        return 0\n",
    "\n",
    "# Apply the custom function to column 'COUNTRY'\n",
    "X_train['COUNTRY_CODE'] = X_train['COUNTRY'].apply(country_to_binary)\n",
    "X_train.drop('COUNTRY', axis=1, inplace=True)\n",
    "\n",
    "# Load your testing data\n",
    "X_test = pd.read_csv('TestingData_without_NaNs_No_ID.csv')\n",
    "\n",
    "# Apply the custom function to column 'COUNTRY'\n",
    "X_test['COUNTRY_CODE'] = X_test['COUNTRY'].apply(country_to_binary)\n",
    "X_test.drop('COUNTRY', axis=1, inplace=True)\n",
    "\n",
    "# Split your training data into training and validation sets\n",
    "X_train, X_val, Y_train, Y_val = train_test_split(X_train, Y_train, test_size=0.2, random_state=42)\n",
    "\n",
    "# Standardize your input features (mean=0, std=1)\n",
    "scaler = StandardScaler()\n",
    "X_train = scaler.fit_transform(X_train)\n",
    "X_val = scaler.transform(X_val)\n",
    "X_test = scaler.transform(X_test)"
   ]
  },
  {
   "cell_type": "code",
   "execution_count": 78,
   "metadata": {},
   "outputs": [],
   "source": [
    "from tensorflow.keras.models import Sequential\n",
    "from tensorflow.keras.layers import Dense\n",
    "\n",
    "model = Sequential()\n",
    "\n",
    "# Input layer with the same number of neurons as input features (34 in your case)\n",
    "model.add(Dense(64, activation='relu', input_dim=33))  # Adjust the number of neurons as needed\n",
    "\n",
    "# You can add more hidden layers if necessary\n",
    "model.add(Dense(32, activation='relu'))\n",
    "\n",
    "# Output layer with a single neuron for regression\n",
    "model.add(Dense(1, activation='linear'))  # Linear activation for regression\n",
    "\n",
    "# Compile the model with an appropriate loss function (e.g., MSE) and optimizer\n",
    "model.compile(optimizer='adam', loss='mean_squared_error')\n"
   ]
  },
  {
   "cell_type": "code",
   "execution_count": 79,
   "metadata": {},
   "outputs": [
    {
     "name": "stdout",
     "output_type": "stream",
     "text": [
      "Epoch 1/10\n",
      "19/19 [==============================] - 0s 4ms/step - loss: 1.3561 - val_loss: 1.2107\n",
      "Epoch 2/10\n",
      "19/19 [==============================] - 0s 1ms/step - loss: 1.0832 - val_loss: 1.1350\n",
      "Epoch 3/10\n",
      "19/19 [==============================] - 0s 1ms/step - loss: 1.0136 - val_loss: 1.1298\n",
      "Epoch 4/10\n",
      "19/19 [==============================] - 0s 1ms/step - loss: 0.9715 - val_loss: 1.1327\n",
      "Epoch 5/10\n",
      "19/19 [==============================] - 0s 1ms/step - loss: 0.9467 - val_loss: 1.1365\n",
      "Epoch 6/10\n",
      "19/19 [==============================] - 0s 1ms/step - loss: 0.9209 - val_loss: 1.1367\n",
      "Epoch 7/10\n",
      "19/19 [==============================] - 0s 1ms/step - loss: 0.8992 - val_loss: 1.1414\n",
      "Epoch 8/10\n",
      "19/19 [==============================] - 0s 1ms/step - loss: 0.8835 - val_loss: 1.1497\n",
      "Epoch 9/10\n",
      "19/19 [==============================] - 0s 1ms/step - loss: 0.8670 - val_loss: 1.1419\n",
      "Epoch 10/10\n",
      "19/19 [==============================] - 0s 1ms/step - loss: 0.8543 - val_loss: 1.1541\n"
     ]
    },
    {
     "data": {
      "text/plain": [
       "<keras.src.callbacks.History at 0x2c74c1480>"
      ]
     },
     "execution_count": 79,
     "metadata": {},
     "output_type": "execute_result"
    }
   ],
   "source": [
    "# Specify the number of training epochs and batch size\n",
    "num_epochs = 10\n",
    "batch_size = 64\n",
    "\n",
    "# Train the model\n",
    "model.fit(X_train, Y_train, epochs=num_epochs, batch_size=batch_size, validation_data=(X_val, Y_val))\n"
   ]
  },
  {
   "cell_type": "code",
   "execution_count": 80,
   "metadata": {},
   "outputs": [
    {
     "name": "stdout",
     "output_type": "stream",
     "text": [
      "21/21 [==============================] - 0s 393us/step\n"
     ]
    }
   ],
   "source": [
    "# Make predictions on the test data\n",
    "predictions = model.predict(X_test)\n",
    "\n",
    "# Create a DataFrame for the predictions with columns 'ID' and 'TARGET'\n",
    "output_df = pd.DataFrame({'TARGET': predictions.flatten()})\n",
    "\n",
    "# Save the predictions to a CSV file\n",
    "output_df.to_csv('predictions_No_ID.csv', index=False)"
   ]
  }
 ],
 "metadata": {
  "kernelspec": {
   "display_name": "Python 3",
   "language": "python",
   "name": "python3"
  },
  "language_info": {
   "codemirror_mode": {
    "name": "ipython",
    "version": 3
   },
   "file_extension": ".py",
   "mimetype": "text/x-python",
   "name": "python",
   "nbconvert_exporter": "python",
   "pygments_lexer": "ipython3",
   "version": "3.10.5"
  },
  "orig_nbformat": 4
 },
 "nbformat": 4,
 "nbformat_minor": 2
}
