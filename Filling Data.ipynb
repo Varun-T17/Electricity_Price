{
 "cells": [
  {
   "cell_type": "code",
   "execution_count": 8,
   "metadata": {},
   "outputs": [],
   "source": [
    "# Imputer Module\n",
    "from verstack import NaNImputer\n",
    "import pandas as pd"
   ]
  },
  {
   "cell_type": "code",
   "execution_count": 9,
   "metadata": {},
   "outputs": [
    {
     "name": "stdout",
     "output_type": "stream",
     "text": [
      "\n",
      " * Initiating NaNImputer.impute\n",
      "     . Dataset dimensions:\n",
      "     .. rows:         1494\n",
      "     .. columns:      33\n",
      "     .. mb in memory: 0.38\n",
      "     .. NaN cols num: 12\n",
      "\n",
      "   - Drop hopeless NaN cols\n",
      "\n",
      "   - Processing whole data for imputation\n",
      "\n",
      "   - Imputing single core 12 cols\n",
      "     . Imputed (regression) - 25       NaN in DE_FR_EXCHANGE\n",
      "     . Imputed (regression) - 25       NaN in FR_DE_EXCHANGE\n",
      "     . Imputed (regression) - 124      NaN in DE_NET_EXPORT\n",
      "     . Imputed (regression) - 70       NaN in FR_NET_EXPORT\n",
      "     . Imputed (regression) - 124      NaN in DE_NET_IMPORT\n",
      "     . Imputed (regression) - 70       NaN in FR_NET_IMPORT\n",
      "     . Imputed (regression) - 94       NaN in DE_RAIN\n",
      "     . Imputed (regression) - 94       NaN in FR_RAIN\n",
      "     . Imputed (regression) - 94       NaN in DE_WIND\n",
      "     . Imputed (regression) - 94       NaN in FR_WIND\n",
      "     . Imputed (regression) - 94       NaN in DE_TEMP\n",
      "     . Imputed (regression) - 94       NaN in FR_TEMP\n",
      "\n",
      "   - Missing values after imputation: 0\n",
      "\n",
      "Time elapsed for impute execution: 4.50758 seconds\n"
     ]
    }
   ],
   "source": [
    "TrainingData_with_NaNs = pd.read_csv(\"X_train.csv\")\n",
    "\n",
    "# Removing ID column as its not useful for filling data, but store it frst to add it on later\n",
    "Id_Column = TrainingData_with_NaNs['ID']\n",
    "TrainingData_with_NaNs = TrainingData_with_NaNs.drop(columns=['ID'])\n",
    "\n",
    "# Run imputer program\n",
    "imputer = NaNImputer()\n",
    "TrainingData_without_NaNs = imputer.impute(TrainingData_with_NaNs)\n",
    "\n",
    "# Append the DAY_ID column to it again and save the file\n",
    "TrainingData_without_NaNs.insert(0, 'ID', Id_Column)\n",
    "TrainingData_without_NaNs.to_csv(\"TrainingData_without_NaNs.csv\", index=None)"
   ]
  },
  {
   "cell_type": "code",
   "execution_count": 10,
   "metadata": {},
   "outputs": [
    {
     "name": "stdout",
     "output_type": "stream",
     "text": [
      "\n",
      " * Initiating NaNImputer.impute\n",
      "     . Dataset dimensions:\n",
      "     .. rows:         2148\n",
      "     .. columns:      33\n",
      "     .. mb in memory: 0.54\n",
      "     .. NaN cols num: 12\n",
      "\n",
      "   - Drop hopeless NaN cols\n",
      "\n",
      "   - Processing whole data for imputation\n",
      "\n",
      "   - Imputing single core 12 cols\n",
      "     . Imputed (regression) - 9        NaN in DE_FR_EXCHANGE\n",
      "     . Imputed (regression) - 9        NaN in FR_DE_EXCHANGE\n",
      "     . Imputed (regression) - 47       NaN in DE_NET_EXPORT\n",
      "     . Imputed (regression) - 24       NaN in FR_NET_EXPORT\n",
      "     . Imputed (regression) - 47       NaN in DE_NET_IMPORT\n",
      "     . Imputed (regression) - 24       NaN in FR_NET_IMPORT\n",
      "     . Imputed (regression) - 40       NaN in DE_RAIN\n",
      "     . Imputed (regression) - 40       NaN in FR_RAIN\n",
      "     . Imputed (regression) - 40       NaN in DE_WIND\n",
      "     . Imputed (regression) - 40       NaN in FR_WIND\n",
      "     . Imputed (regression) - 40       NaN in DE_TEMP\n",
      "     . Imputed (regression) - 40       NaN in FR_TEMP\n",
      "\n",
      "   - Missing values after imputation: 0\n",
      "\n",
      "Time elapsed for impute execution: 4.7796 seconds\n"
     ]
    }
   ],
   "source": [
    "TestingData_with_NaNs = pd.read_csv(\"X_test.csv\")\n",
    "\n",
    "# Stack Training Data (without NaN) on top of Testing Input Data as we want the imputer to consider the same values\n",
    "Stacked_Data = pd.concat([TrainingData_without_NaNs, TestingData_with_NaNs], axis=0)\n",
    "\n",
    "# Reset the index to ensure a continuous index\n",
    "Stacked_Data.reset_index(drop=True, inplace=True)\n",
    "\n",
    "# Removing ID column as its not useful for filling data, but store it frst to add it on later\n",
    "ID_Column_All_Input_Data = Stacked_Data['ID']\n",
    "Stacked_Data = Stacked_Data.drop(columns=['ID'])\n",
    "\n",
    "# Run imputer program\n",
    "imputer2 = NaNImputer()\n",
    "Stacked_Data_without_NaNs = imputer2.impute(Stacked_Data)\n",
    "\n",
    "# Append the DAY_ID column to file with all data\n",
    "Stacked_Data_without_NaNs.insert(0, 'ID', ID_Column_All_Input_Data)\n",
    "\n",
    "# We only want the testing Input Dataset\n",
    "TestingData_without_NaNs = Stacked_Data_without_NaNs.tail(654)\n",
    "\n",
    "# Save the new Filled Testing Dataset\n",
    "TestingData_without_NaNs.to_csv(\"TestingData_without_NaNs.csv\", index=None)"
   ]
  }
 ],
 "metadata": {
  "kernelspec": {
   "display_name": "Python 3",
   "language": "python",
   "name": "python3"
  },
  "language_info": {
   "codemirror_mode": {
    "name": "ipython",
    "version": 3
   },
   "file_extension": ".py",
   "mimetype": "text/x-python",
   "name": "python",
   "nbconvert_exporter": "python",
   "pygments_lexer": "ipython3",
   "version": "3.10.5"
  },
  "orig_nbformat": 4
 },
 "nbformat": 4,
 "nbformat_minor": 2
}
